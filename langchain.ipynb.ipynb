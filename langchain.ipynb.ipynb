{
 "cells": [
  {
   "cell_type": "code",
   "execution_count": 1,
   "id": "60b592d3",
   "metadata": {},
   "outputs": [],
   "source": [
    "from langchain.document_loaders import TextLoader"
   ]
  },
  {
   "cell_type": "code",
   "execution_count": 2,
   "id": "f998be9b",
   "metadata": {},
   "outputs": [],
   "source": [
    "mykey =\"**************************************************************\""
   ]
  },
  {
   "cell_type": "code",
   "execution_count": 3,
   "id": "2c114533",
   "metadata": {},
   "outputs": [],
   "source": [
    "import os"
   ]
  },
  {
   "cell_type": "code",
   "execution_count": 4,
   "id": "8b6aa955",
   "metadata": {},
   "outputs": [],
   "source": [
    "os.environ[\"OPENAI_API_KEY\"]= mykey"
   ]
  },
  {
   "cell_type": "code",
   "execution_count": 5,
   "id": "8d255fc2",
   "metadata": {},
   "outputs": [],
   "source": [
    "loader=TextLoader(file_path=\"chatai.txt\")"
   ]
  },
  {
   "cell_type": "code",
   "execution_count": 6,
   "id": "4df29854",
   "metadata": {},
   "outputs": [
    {
     "data": {
      "text/plain": [
       "'chatai.txt'"
      ]
     },
     "execution_count": 6,
     "metadata": {},
     "output_type": "execute_result"
    }
   ],
   "source": [
    "loader.file_path"
   ]
  },
  {
   "cell_type": "code",
   "execution_count": 7,
   "id": "5d5381c0",
   "metadata": {},
   "outputs": [],
   "source": [
    "document=loader.load()"
   ]
  },
  {
   "cell_type": "code",
   "execution_count": 8,
   "id": "58b80183",
   "metadata": {},
   "outputs": [
    {
     "data": {
      "text/plain": [
       "[Document(page_content=\"LinuxWorld was founded by Mr Vimal Daga in 2003 with a vision to spread awareness about Linux. He was the first one to introduce Linux in Rajasthan. Awakening the Youth through a culture of Right Education is the vision of LinuxWorld. LinuxWorld has served more than 10,00,000 lakh students  working professionals across India in last 10 years. Our goal is to provide biggest best industry relevant content in the most affordable cost. 3 years in a row LinuxWorld has been awarded asBest RedHat Partner across India Asia Pacific We are the pioneers  1st ones to launch programs on MLOps, Generative AIOps, DevOps Assembly Lines, Hybrid Multi Cloud, Quantum Computing many more. LinuxWorld has 2 flagship programs namely ARTH The School of Technologies The Creator â€“ The One Only Research Based Summer Internship Industrial Training Program. Our alumnus are currently serving companies namely Microsoft, Google, Amazon, NTT Data, IBM, RedHat, Paytm, Nykaa, Deloitte, J P Morgan, many more\\n. Our Mentor  the Founder, Mr Vimal Daga believes that Our Engineers Can be the Creators which he publicly declared in his Tedx Talk various workshops across India. We strongly believe in hand holding every technical learner  provide appropriate guidance which help them achieve SOMETHING BIG IN LIFE. We are working towards our mission of MAKING INDIA, FUTURE READY . Our Summer Interns call our Research Based Program as Life Changing Summer Program. The Only program across the globe, where we learn everything from basic to advance level on Industry 4.0 technologies, research on technologies, integrate them  develop a Summer Live Project. At the same time, Biggest Summer Program since we have students participating from PAN India Engineering colleges. But after these 45 days Summer Program, learners quench to learn more technologies arises  they are willing to have continuous learning under the guidance of Mr Vimal Daga. Here comes our ARTH - The School of Technologies program, an opportunity to be under Mr Vimal Daga's guidance continuously for 12 months on all the possible trending technologies namely Data Science, DevOps, Cloud, DSA, Full Stack Development, RedHat Linux, Python much more.\\nVimal runs a technology and training solutions company called LinuxWorld Informatics in Jaipur, Rajasthan. But apart from that, he has been imparting education to thousands of students for free. The only motive behind his efforts is to enable young minds to make a mark for themselves.\\nIn 2005, when Vimal was pursuing his second year in engineering at Jaipur Engineering College and Research Centre (JECRC), he established a venture of his own: LinuxWorld Informatics. Vimal kicked off the operations of the company by borrowing Rs 15,000 from his friends. It was Vimalâ€™s drive to help the student community, coupled with the need for money, that initially drove him to take the path less travelled.\\n'm sorry, but as of my last knowledge update in September 2021, I do not have any information about an individual named Sanket Gawali. It's possible that this person may not be widely known or significant in the context available to me.\\n\\n\\nIf Sanket Gawali is a relatively recent or specific individual, or if they have gained prominence after September 2021, I might not have information about them. If you could provide more context or details about who Sanket Gawali is or why you are asking about them, I'll do my best to assist you based on the information available to me. country that occupies the greater part of South Asia. Its capital is New Delhi, built in the 20th century just south of the historic hub of Old Delhi to serve as Indiaâ€™s administrative centre. Its government is a constitutional republic that represents a highly diverse population consisting of thousands of ethnic groups and likely hundreds of languages. With roughly one-sixth of the worldâ€™s total population, India is the second most populous country, after China.\\n\\nIt is known from archaeological evidence that a highly sophisticated urbanized cultureâ€”the Indus civilizationâ€”dominated the northwestern part of the subcontinent from about 2600 to 2000 BCE. From that period on, India functioned as a virtually self-contained political and cultural arena, which gave rise to a distinctive tradition that was associated primarily with Hinduism, the roots of which can largely be traced to the Indus civilization. Other religions, notably Buddhism and Jainism, originated in Indiaâ€”though their presence there is now quite smallâ€”and throughout the centuries residents of the subcontinent developed a rich intellectual life in such fields as mathematics, astronomy, architecture, literature, music, and the fine arts.\\n\\nTaj Mahal\\nTaj Mahal\\nJaisalmer, Rajasthan, India: fort\\nJaisalmer, Rajasthan, India: fort\\nThroughout its history, India was intermittently disturbed by incursions from beyond its northern mountain wall. Especially important was the coming of Islam, brought from the northwest by Arab, Turkish, Persian, and other raiders beginning early in the 8th century CE. Eventually, some of those raiders stayed; by the 13th century much of the subcontinent was under Muslim rule, and the number of Muslims steadily increased. Only after the arrival of the Portuguese navigator Vasco da Gama in 1498 and the subsequent establishment of European maritime supremacy in the region did India become exposed to major external influences arriving by sea, a process that culminated in the decline of the ruling Muslim elite and absorption of the subcontinent within the British Empire.\\n\\nDirect administration by the British, which began in 1858, effected a political and economic unification of the subcontinent. When British rule came to an end on August 14-15, 1947, celebrated annually as Independence Day, the subcontinent was partitioned along religious lines into two separate countriesâ€”India, with a majority of Hindus, and Pakistan, with a majority of Muslims; the eastern portion of Pakistan later split off to form Bangladesh. Many British institutions stayed in place (such as the parliamentary system of government); English continued to be a widely used lingua franca; and India remained within the Commonwealth. Hindi became the official language (and a number of other local languages achieved official status), while a vibrant English-language intelligentsia thrived.\", metadata={'source': 'chatai.txt'})]"
      ]
     },
     "execution_count": 8,
     "metadata": {},
     "output_type": "execute_result"
    }
   ],
   "source": [
    "document"
   ]
  },
  {
   "cell_type": "code",
   "execution_count": null,
   "id": "1239f142",
   "metadata": {},
   "outputs": [],
   "source": []
  },
  {
   "cell_type": "code",
   "execution_count": 9,
   "id": "e7257ff9",
   "metadata": {},
   "outputs": [],
   "source": [
    "from langchain.text_splitter import CharacterTextSplitter"
   ]
  },
  {
   "cell_type": "code",
   "execution_count": 10,
   "id": "4acdb37e",
   "metadata": {},
   "outputs": [],
   "source": [
    "textChunk=CharacterTextSplitter(chunk_size=1000)"
   ]
  },
  {
   "cell_type": "code",
   "execution_count": 11,
   "id": "288b9ea8",
   "metadata": {},
   "outputs": [
    {
     "name": "stderr",
     "output_type": "stream",
     "text": [
      "Created a chunk of size 3138, which is longer than the specified 1000\n"
     ]
    }
   ],
   "source": [
    "texts=textChunk.split_documents(document)"
   ]
  },
  {
   "cell_type": "code",
   "execution_count": 12,
   "id": "da7c3465",
   "metadata": {},
   "outputs": [
    {
     "data": {
      "text/plain": [
       "5"
      ]
     },
     "execution_count": 12,
     "metadata": {},
     "output_type": "execute_result"
    }
   ],
   "source": [
    "len(texts)"
   ]
  },
  {
   "cell_type": "code",
   "execution_count": 13,
   "id": "9e97b9e2",
   "metadata": {},
   "outputs": [],
   "source": [
    "from langchain.embeddings import OpenAIEmbeddings"
   ]
  },
  {
   "cell_type": "code",
   "execution_count": 14,
   "id": "95f19d0c",
   "metadata": {},
   "outputs": [],
   "source": [
    "myembedmodel=OpenAIEmbeddings(openai_api_key=mykey)"
   ]
  },
  {
   "cell_type": "code",
   "execution_count": 15,
   "id": "602fc9e8",
   "metadata": {},
   "outputs": [],
   "source": [
    "\n",
    "from langchain.vectorstores import Pinecone"
   ]
  },
  {
   "cell_type": "code",
   "execution_count": 16,
   "id": "ae4c21c3",
   "metadata": {},
   "outputs": [
    {
     "name": "stderr",
     "output_type": "stream",
     "text": [
      "C:\\Users\\Admin\\anaconda3\\Lib\\site-packages\\pinecone\\index.py:4: TqdmExperimentalWarning: Using `tqdm.autonotebook.tqdm` in notebook mode. Use `tqdm.tqdm` instead to force console mode (e.g. in jupyter console)\n",
      "  from tqdm.autonotebook import tqdm\n"
     ]
    }
   ],
   "source": [
    "import pinecone\n",
    "\n"
   ]
  },
  {
   "cell_type": "code",
   "execution_count": 17,
   "id": "c3523931",
   "metadata": {},
   "outputs": [],
   "source": [
    "pinecone.init(\n",
    "    api_key=\"*****************************************8\",\n",
    "    environment=\"gcp-starter\")"
   ]
  },
  {
   "cell_type": "code",
   "execution_count": 18,
   "id": "e1084b56",
   "metadata": {},
   "outputs": [],
   "source": [
    "docsearch=Pinecone.from_documents(\n",
    "            documents=texts,\n",
    "            embedding=myembedmodel,\n",
    "            index_name=\"myfirstindex\"\n",
    "    )"
   ]
  },
  {
   "cell_type": "code",
   "execution_count": 19,
   "id": "c1eb52ab",
   "metadata": {},
   "outputs": [],
   "source": [
    "from langchain import OpenAI"
   ]
  },
  {
   "cell_type": "code",
   "execution_count": 20,
   "id": "dec35f87",
   "metadata": {},
   "outputs": [],
   "source": [
    "from langchain.chains import RetrievalQA "
   ]
  },
  {
   "cell_type": "code",
   "execution_count": 21,
   "id": "3f0a3e95",
   "metadata": {},
   "outputs": [],
   "source": [
    "qa= RetrievalQA.from_chain_type(\n",
    "        llm=OpenAI(),\n",
    "        chain_type=\"stuff\",\n",
    "        retriever=docsearch.as_retriever()\n",
    ")"
   ]
  },
  {
   "cell_type": "code",
   "execution_count": 22,
   "id": "699380db",
   "metadata": {},
   "outputs": [],
   "source": [
    "myquery = \"who is vimal daga, tell me in 10 words \""
   ]
  },
  {
   "cell_type": "code",
   "execution_count": 23,
   "id": "a2aa337c",
   "metadata": {},
   "outputs": [
    {
     "data": {
      "text/plain": [
       "{'query': 'who is vimal daga, tell me in 10 words ',\n",
       " 'result': ' Vimal Daga is the founder of LinuxWorld, a technology and training solutions company in Jaipur, Rajasthan.'}"
      ]
     },
     "execution_count": 23,
     "metadata": {},
     "output_type": "execute_result"
    }
   ],
   "source": [
    "qa({\"query\": myquery})"
   ]
  },
  {
   "cell_type": "code",
   "execution_count": null,
   "id": "3c6b71c3",
   "metadata": {},
   "outputs": [],
   "source": []
  },
  {
   "cell_type": "code",
   "execution_count": null,
   "id": "74349609",
   "metadata": {},
   "outputs": [],
   "source": []
  },
  {
   "cell_type": "code",
   "execution_count": null,
   "id": "0ebb875c",
   "metadata": {},
   "outputs": [],
   "source": []
  },
  {
   "cell_type": "code",
   "execution_count": null,
   "id": "ef2514aa",
   "metadata": {},
   "outputs": [],
   "source": []
  },
  {
   "cell_type": "code",
   "execution_count": null,
   "id": "5c417432",
   "metadata": {},
   "outputs": [],
   "source": []
  },
  {
   "cell_type": "code",
   "execution_count": null,
   "id": "7bca780f",
   "metadata": {},
   "outputs": [],
   "source": []
  },
  {
   "cell_type": "code",
   "execution_count": null,
   "id": "aba3a74f",
   "metadata": {},
   "outputs": [],
   "source": []
  }
 ],
 "metadata": {
  "kernelspec": {
   "display_name": "Python 3 (ipykernel)",
   "language": "python",
   "name": "python3"
  },
  "language_info": {
   "codemirror_mode": {
    "name": "ipython",
    "version": 3
   },
   "file_extension": ".py",
   "mimetype": "text/x-python",
   "name": "python",
   "nbconvert_exporter": "python",
   "pygments_lexer": "ipython3",
   "version": "3.11.3"
  }
 },
 "nbformat": 4,
 "nbformat_minor": 5
}
